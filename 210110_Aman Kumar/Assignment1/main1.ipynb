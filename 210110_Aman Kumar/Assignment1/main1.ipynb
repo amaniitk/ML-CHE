{
 "cells": [
  {
   "cell_type": "code",
   "execution_count": 16,
   "id": "d7e6c2e7",
   "metadata": {},
   "outputs": [],
   "source": [
    "import math, copy\n",
    "import numpy as np\n",
    "import matplotlib.pyplot as plt"
   ]
  },
  {
   "cell_type": "code",
   "execution_count": 28,
   "id": "1080717f",
   "metadata": {},
   "outputs": [],
   "source": [
    "X_train = np.array([2.5, 4.7, 5.2, 7.3, 9.5, 11.5])\n",
    "Y_train = np.array([5.21, 7.7, 8.3, 11, 14.5, 15])"
   ]
  },
  {
   "cell_type": "code",
   "execution_count": 31,
   "id": "e1cd1c5f",
   "metadata": {},
   "outputs": [],
   "source": [
    "def costFun(w,b,X_train,Y_train):\n",
    "    m = X_train.shape[0]\n",
    "    cost = 0\n",
    "    \n",
    "    \n",
    "    for i in range(m):\n",
    "        f_wb = w * x[i] + b\n",
    "        cost = cost + (f_wb - y[i])**2\n",
    "    J = 1 / (2 * m) * cost\n",
    "    return J"
   ]
  },
  {
   "cell_type": "code",
   "execution_count": 35,
   "id": "9d0d4724",
   "metadata": {},
   "outputs": [],
   "source": [
    "def diffcostFun(w, b,X_train,Y_train): \n",
    "    m = X_train.shape[0] \n",
    "    diff_w = 0\n",
    "    diff_b = 0\n",
    "    \n",
    "    for i in range(m):\n",
    "        f_wb = w * X_train[i] + b\n",
    "        diff_w_i = (f_wb - Y_train[i]) * X_train[i] \n",
    "        diff_b_i = f_wb - Y_train[i] \n",
    "        diff_b += diff_b_i\n",
    "        diff_w += diff_w_i \n",
    "    diff_w = diff_w / m \n",
    "    diff_b = diff_b / m \n",
    "    \n",
    "    return diff_w, diff_b"
   ]
  },
  {
   "cell_type": "code",
   "execution_count": 45,
   "id": "2830fdd8",
   "metadata": {},
   "outputs": [],
   "source": [
    "def fitGD(X_train, Y_train, alpha , n_iters, w_in, b_in, cost_function, gradient_function):\n",
    "    J_history = []\n",
    "    p_history = []\n",
    "    b = b_in\n",
    "    w = w_in\n",
    "    \n",
    "    for i in range(n_iters):\n",
    "        diff_w, diff_b = gradient_function(X_train, Y_train, w , b) \n",
    "        \n",
    "        b = b - alpha * diff_b                            \n",
    "        w = w - alpha * diff_w  \n",
    "    \n",
    "        if i<100000:     \n",
    "            J_history.append( cost_function(X_train, Y_train, w , b))\n",
    "            p_history.append([w,b])\n",
    " \n",
    "        if i% math.ceil(n_iters/10) == 0:\n",
    "            print(f\"Iteration {i:4}: Cost {J_history[-1]:0.2e} \",\n",
    "                  f\"diff_w: {diff_w: 0.3e}, diff_b: {diff_b: 0.3e}  \",\n",
    "                  f\"w: {w: 0.3e}, b:{b: 0.5e}\")\n",
    " \n",
    "    return w, b, J_history, p_history"
   ]
  },
  {
   "cell_type": "code",
   "execution_count": 46,
   "id": "baf98b99",
   "metadata": {},
   "outputs": [
    {
     "name": "stdout",
     "output_type": "stream",
     "text": [
      "(w,b) found by gradient descent: (  0.0100,10000.0000)\n"
     ]
    }
   ],
   "source": [
    "w_init = 0\n",
    "b_init = 0\n",
    "\n",
    "iterations = 10000\n",
    "tmp_alpha = 1.0e-2\n",
    "\n",
    "w_final, b_final, J_hist, p_hist = fitGD(X_train ,Y_train, w_init, b_init, tmp_alpha, \n",
    "                                                    iterations,costFun , diffcostFun)\n",
    "print(f\"(w,b) found by gradient descent: ({w_final:8.4f},{b_final:8.4f})\")"
   ]
  },
  {
   "cell_type": "code",
   "execution_count": 78,
   "id": "49645408",
   "metadata": {},
   "outputs": [
    {
     "data": {
      "text/plain": [
       "<matplotlib.collections.PathCollection at 0x1703ac349a0>"
      ]
     },
     "execution_count": 78,
     "metadata": {},
     "output_type": "execute_result"
    },
    {
     "data": {
      "image/png": "[encoded data removed]",
      "text/plain": [
       "<Figure size 640x480 with 1 Axes>"
      ]
     },
     "metadata": {},
     "output_type": "display_data"
    }
   ],
   "source": [
    "plt.scatter(X_train, Y_train, marker='x', c='black')"
   ]
  },
  {
   "cell_type": "code",
   "execution_count": 79,
   "id": "f4b8b86e",
   "metadata": {},
   "outputs": [],
   "source": [
    "def output(X_train, w, b):\n",
    "\n",
    "    m = X_train.shape[0]\n",
    "    f = np.zeros(m)\n",
    "    for i in range(m):\n",
    "        f[i] = w * X_train[i] + b\n",
    "        \n",
    "    return f"
   ]
  },
  {
   "cell_type": "code",
   "execution_count": 80,
   "id": "14a889a2",
   "metadata": {},
   "outputs": [
    {
     "ename": "NameError",
     "evalue": "name 'w' is not defined",
     "output_type": "error",
     "traceback": [
      "\u001b[1;31m---------------------------------------------------------------------------\u001b[0m",
      "\u001b[1;31mNameError\u001b[0m                                 Traceback (most recent call last)",
      "\u001b[1;32m~\\AppData\\Local\\Temp\\ipykernel_31924\\912082634.py\u001b[0m in \u001b[0;36m<module>\u001b[1;34m\u001b[0m\n\u001b[1;32m----> 1\u001b[1;33m \u001b[0mtmp_f\u001b[0m \u001b[1;33m=\u001b[0m\u001b[0moutput\u001b[0m\u001b[1;33m(\u001b[0m\u001b[0mX_train\u001b[0m\u001b[1;33m,\u001b[0m \u001b[0mw\u001b[0m\u001b[1;33m,\u001b[0m \u001b[0mb\u001b[0m\u001b[1;33m)\u001b[0m\u001b[1;33m\u001b[0m\u001b[1;33m\u001b[0m\u001b[0m\n\u001b[0m\u001b[0;32m      2\u001b[0m \u001b[1;33m\u001b[0m\u001b[0m\n\u001b[0;32m      3\u001b[0m \u001b[0mplt\u001b[0m\u001b[1;33m.\u001b[0m\u001b[0mplot\u001b[0m\u001b[1;33m(\u001b[0m\u001b[0mX_train\u001b[0m\u001b[1;33m,\u001b[0m \u001b[0mtmp_f\u001b[0m\u001b[1;33m,\u001b[0m \u001b[0mc\u001b[0m\u001b[1;33m=\u001b[0m\u001b[1;34m'b'\u001b[0m\u001b[1;33m,\u001b[0m\u001b[0mlabel\u001b[0m\u001b[1;33m=\u001b[0m\u001b[1;34m'Prediction'\u001b[0m\u001b[1;33m)\u001b[0m\u001b[1;33m\u001b[0m\u001b[1;33m\u001b[0m\u001b[0m\n\u001b[0;32m      4\u001b[0m \u001b[1;33m\u001b[0m\u001b[0m\n\u001b[0;32m      5\u001b[0m \u001b[0mplt\u001b[0m\u001b[1;33m.\u001b[0m\u001b[0mscatter\u001b[0m\u001b[1;33m(\u001b[0m\u001b[0mX_train\u001b[0m\u001b[1;33m,\u001b[0m \u001b[0mY_train\u001b[0m\u001b[1;33m,\u001b[0m \u001b[0mmarker\u001b[0m\u001b[1;33m=\u001b[0m\u001b[1;34m'p'\u001b[0m\u001b[1;33m,\u001b[0m \u001b[0mc\u001b[0m\u001b[1;33m=\u001b[0m\u001b[1;34m'r'\u001b[0m\u001b[1;33m,\u001b[0m\u001b[0mlabel\u001b[0m\u001b[1;33m=\u001b[0m\u001b[1;34m'Actual Values'\u001b[0m\u001b[1;33m)\u001b[0m\u001b[1;33m\u001b[0m\u001b[1;33m\u001b[0m\u001b[0m\n",
      "\u001b[1;31mNameError\u001b[0m: name 'w' is not defined"
     ]
    }
   ],
   "source": [
    "tmp_f =output(X_train, w, b)\n",
    "\n",
    "plt.plot(X_train, tmp_f, c='b',label='Prediction')\n",
    "\n",
    "plt.scatter(X_train, Y_train, marker='p', c='r',label='Actual Values')\n",
    "\n",
    "plt.title(\"x vs y\")\n",
    "plt.ylabel('y value')\n",
    "plt.xlabel('x value')\n",
    "plt.legend()\n",
    "plt.show()"
   ]
  },
  {
   "cell_type": "code",
   "execution_count": 59,
   "id": "3f823cc3",
   "metadata": {},
   "outputs": [
    {
     "name": "stdout",
     "output_type": "stream",
     "text": [
      "for 3.5 gives 10000.035\n",
      "for 5 gives 10000.050\n",
      "for 6 gives 10000.060\n",
      "for 8 gives 10000.080\n",
      "for 10 gives 10000.100\n"
     ]
    }
   ],
   "source": [
    "X_test = [3.5, 5, 6, 8, 10 ]\n",
    "for i in range(len(X_test)):\n",
    "      print(f\"for {X_test[i]} gives {w_final*X_test[i] + b_final:0.3f}\")"
   ]
  },
  {
   "cell_type": "code",
   "execution_count": null,
   "id": "88153078",
   "metadata": {},
   "outputs": [],
   "source": []
  }
 ],
 "metadata": {
  "kernelspec": {
   "display_name": "Python 3 (ipykernel)",
   "language": "python",
   "name": "python3"
  },
  "language_info": {
   "codemirror_mode": {
    "name": "ipython",
    "version": 3
   },
   "file_extension": ".py",
   "mimetype": "text/x-python",
   "name": "python",
   "nbconvert_exporter": "python",
   "pygments_lexer": "ipython3",
   "version": "3.9.13"
  }
 },
 "nbformat": 4,
 "nbformat_minor": 5
}
