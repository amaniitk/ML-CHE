{
 "cells": [
  {
   "cell_type": "code",
   "execution_count": 1,
   "id": "08afdef2",
   "metadata": {},
   "outputs": [],
   "source": [
    "import numpy as np\n",
    "import pandas as pd\n",
    "import matplotlib.pyplot as plt\n",
    "import sklearn\n",
    "from sklearn.model_selection import train_test_split\n",
    "import seaborn as sns\n",
    "import datetime"
   ]
  },
  {
   "cell_type": "code",
   "execution_count": null,
   "id": "98bbbc96",
   "metadata": {},
   "outputs": [],
   "source": [
    "def costFun(Theta,x_train,y_train):\n",
    "    s=np.sum((np.matmul(Theta,x_train)-y_train)**2);\n",
    "    return (1/(2*y_train.shape[1]))*s;\n",
    "\n",
    "def diffCostFun(Theta,x_train,y_train):\n",
    "    b=0;\n",
    "    b=np.dot((np.matmul(Theta,x_train)-y_train),np.transpose(x_train));\n",
    "    b=b/(y_train.size);\n",
    "    return b;\n",
    "  \n",
    "def fitGD(x_train,y_train,alpha,lamda,Type,iterations,pt):\n",
    "  n=x_train.shape[0]\n",
    "  Theta=np.ones(n,dtype=float);\n",
    "  m=y_train.shape[1];\n",
    "  # cost=np.zeros(iterations);\n",
    "  \n",
    "  for itr in range(iterations):\n",
    "    if Type==1:\n",
    "      r1=0.;\n",
    "      r2=np.zeros(2);\n",
    "      r1=(np.sum(np.absolute(Theta)))*lamda/(2*m);\n",
    "      r2=(lamda/(2*m));\n",
    "      k=diffCostFun(Theta,x_train,y_train)+r2;\n",
    "      Theta=Theta-alpha*k;\n",
    "   \n",
    "    if Type==2:\n",
    "      r1=0;\n",
    "      r2=np.zeros(n);\n",
    "      r1=np.sum(np.square(Theta))*lamda/m;\n",
    "      r2=(lamda/m)*(Theta);\n",
    "      k=diffCostFun(Theta,x_train,y_train)+r2;\n",
    "      Theta=Theta-alpha*k;\n",
    "\n",
    "    if Type==3:\n",
    "      r1=0;\n",
    "      r1=0.5*(np.square(Theta)+np.absolute(Theta));\n",
    "      r2=np.zeros(2);\n",
    "      r2=(lamda/m)*(0.5*(Theta+0.5*np.ones(Theta.size)));\n",
    "      k=diffCostFun(Theta,x_train,y_train)+r2;\n",
    "      Theta=Theta-alpha*k;\n",
    "    # cost[itr]=(costFun(Theta,x_train,y_train)+r1);\n",
    "\n",
    "  if pt==1:\n",
    "    plt.plot(cost)\n",
    "    plt.show()\n",
    "    plt.scatter(x_train[1],y_train);\n",
    "    x = np.linspace(0,12,100)\n",
    "    y=Theta[0,1]*x+Theta[0,0];\n",
    "    plt.plot(x,y,\"r-\");\n",
    "    plt.show()\n",
    "  return Theta;\n",
    "\n",
    "def fitNormal(x_train,y_train):\n",
    "  yn= np.transpose(y_train);\n",
    "  xn=np.transpose(x_train);\n",
    "  return np.dot(np.dot(np.linalg.inv(np.dot(np.transpose(xn),xn)),np.transpose(xn)),yn)\n",
    "\n",
    "\n",
    "\n",
    "df = pd.read_excel('/AirQualityUCI')\n",
    "d1=df\n",
    "\n",
    "df['HOUR']=df['Time'].apply(lambda x: int(x.strftime('%H')))\n",
    "df.HOUR.head()\n",
    "\n",
    "df['Date']=pd.to_datetime(df.Date, format='%m/%d/%Y')\n",
    "df.set_index('Date',inplace=True)\n",
    "df['Month']=df.index.month\n",
    "df.reset_index(inplace=True)\n",
    "df.head()"
   ]
  },
  {
   "cell_type": "code",
   "execution_count": null,
   "id": "2cb745b7",
   "metadata": {},
   "outputs": [],
   "source": [
    "df.info()\n",
    "df.shape\n",
    "     "
   ]
  },
  {
   "cell_type": "code",
   "execution_count": null,
   "id": "87d92ab3",
   "metadata": {},
   "outputs": [],
   "source": [
    "df.describe()"
   ]
  },
  {
   "cell_type": "code",
   "execution_count": null,
   "id": "a8e279ae",
   "metadata": {},
   "outputs": [],
   "source": [
    "df.duplicated().sum()"
   ]
  },
  {
   "cell_type": "code",
   "execution_count": null,
   "id": "b965bc51",
   "metadata": {},
   "outputs": [],
   "source": [
    "df.isnull().sum()"
   ]
  },
  {
   "cell_type": "code",
   "execution_count": null,
   "id": "5a1b7823",
   "metadata": {},
   "outputs": [],
   "source": [
    "fig = plt.subplots(figsize=(10,10)) \n",
    "sns.heatmap(df.corr(),annot=True)\n",
    "plt.title('Heatmap of co-relation between variables',fontsize=16)\n",
    "plt.show()"
   ]
  },
  {
   "cell_type": "code",
   "execution_count": null,
   "id": "b2543931",
   "metadata": {},
   "outputs": [],
   "source": [
    "col=df.columns.tolist()[2:]\n",
    "for i in df.columns.tolist()[2:]:\n",
    "    sns.lmplot(x=i,y='RH',data=df,markers='.')"
   ]
  },
  {
   "cell_type": "code",
   "execution_count": null,
   "id": "be03e659",
   "metadata": {},
   "outputs": [],
   "source": [
    "ar=df.to_numpy()\n",
    "\n",
    "scaler = sklearn.preprocessing.StandardScaler()\n",
    "Y=ar[:,13]\n",
    "x=ar[:,2:17]\n",
    "scaler.fit(ar[:,2:17])\n",
    "x=scaler.transform(ar[:,2:17])\n",
    "x1=x[:,0:11]\n",
    "x2=x[:,13:15]\n",
    "cp=x\n",
    "X=np.append(x1,x2,axis=1)\n",
    "\n",
    "print(X)"
   ]
  },
  {
   "cell_type": "code",
   "execution_count": null,
   "id": "4735af9c",
   "metadata": {},
   "outputs": [],
   "source": [
    "X_train, X_test, Y_train, Y_test = train_test_split(X,Y ,test_size=0.10, random_state=42)\n",
    "Y_train=np.array([Y_train])\n",
    "Y_test=np.array([Y_test])\n",
    "X_train=np.transpose(X_train)\n",
    "X_train=np.append([np.ones(Y_train.size)],X_train,axis=0)\n",
    "X_test=np.transpose(X_test)\n",
    "X_test=np.append([np.ones(Y_test.size)],X_test,axis=0)\n",
    "X_test=np.transpose(X_test)\n",
    "\n",
    "theta=fitGD(X_train,Y_train,0.01,2,2,100,0)\n",
    "Y_pred1=np.dot(theta,X_train)\n",
    "Y_pred2=np.dot(theta,np.transpose(X_test))\n",
    "\n",
    "Theta=fitNormal(X_train,Y_train)\n",
    "Y_Pred1=np.dot(np.transpose(X_train),Theta)\n",
    "Y_Pred2=np.dot(X_test,Theta)\n",
    "\n",
    "print(theta)\n",
    "print(Theta)"
   ]
  },
  {
   "cell_type": "code",
   "execution_count": null,
   "id": "aed1225c",
   "metadata": {},
   "outputs": [],
   "source": [
    "J_train=np.sum((Y_train-Y_pred1)**2/(2*Y_train.shape[0]))\n",
    "print(J_train)\n",
    "J_test=np.sum((Y_test-Y_pred2)**2/(2*Y_test.shape[0]))\n",
    "print(J_test)\n",
    "J_trainN=np.sum((Y_train-Y_Pred1)**2/(2*Y_train.shape[0]))\n",
    "print(J_trainN)\n",
    "J_testN=np.sum((Y_test-Y_Pred2)**2/(2*Y_test.shape[0]))\n",
    "print(J_testN)"
   ]
  },
  {
   "cell_type": "code",
   "execution_count": null,
   "id": "59bde39e",
   "metadata": {},
   "outputs": [],
   "source": [
    "print(Y_test)\n",
    "print(Y_pred2)"
   ]
  },
  {
   "cell_type": "code",
   "execution_count": null,
   "id": "3460dfa1",
   "metadata": {},
   "outputs": [],
   "source": []
  }
 ],
 "metadata": {
  "kernelspec": {
   "display_name": "Python 3 (ipykernel)",
   "language": "python",
   "name": "python3"
  },
  "language_info": {
   "codemirror_mode": {
    "name": "ipython",
    "version": 3
   },
   "file_extension": ".py",
   "mimetype": "text/x-python",
   "name": "python",
   "nbconvert_exporter": "python",
   "pygments_lexer": "ipython3",
   "version": "3.9.13"
  }
 },
 "nbformat": 4,
 "nbformat_minor": 5
}
